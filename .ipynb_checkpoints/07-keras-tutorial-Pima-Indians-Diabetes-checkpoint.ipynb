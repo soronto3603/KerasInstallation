{
 "cells": [
  {
   "cell_type": "code",
   "execution_count": 1,
   "metadata": {},
   "outputs": [
    {
     "name": "stderr",
     "output_type": "stream",
     "text": [
      "Using TensorFlow backend.\n"
     ]
    }
   ],
   "source": [
    "import numpy as np\n",
    "from keras.models import Sequential\n",
    "from keras.layers import Dense\n",
    "\n",
    "# 랜덤시드 고정시키기\n",
    "np.random.seed(5)"
   ]
  },
  {
   "cell_type": "code",
   "execution_count": 5,
   "metadata": {},
   "outputs": [],
   "source": [
    "# 원래의 코드\n",
    "# dataset = np.loadtxt(\"./warehouse/pima-indians-diabetes.data\", delimiter=\",\")\n",
    "\n",
    "import pandas as pd\n",
    "dataset = pd.read_csv(\"/Users/soronto/Documents/keras/Pima-Indians-Diabetes.csv\", delimiter=\",\")\n",
    "dataset = dataset.values\n",
    "\n"
   ]
  },
  {
   "cell_type": "code",
   "execution_count": 6,
   "metadata": {},
   "outputs": [
    {
     "name": "stdout",
     "output_type": "stream",
     "text": [
      "[[1.00e+00 8.50e+01 6.60e+01 ... 3.51e-01 3.10e+01 0.00e+00]\n",
      " [8.00e+00 1.83e+02 6.40e+01 ... 6.72e-01 3.20e+01 1.00e+00]\n",
      " [1.00e+00 8.90e+01 6.60e+01 ... 1.67e-01 2.10e+01 0.00e+00]\n",
      " ...\n",
      " [5.00e+00 1.21e+02 7.20e+01 ... 2.45e-01 3.00e+01 0.00e+00]\n",
      " [1.00e+00 1.26e+02 6.00e+01 ... 3.49e-01 4.70e+01 1.00e+00]\n",
      " [1.00e+00 9.30e+01 7.00e+01 ... 3.15e-01 2.30e+01 0.00e+00]]\n"
     ]
    }
   ],
   "source": [
    "x_train = dataset[:700,0:8]\n",
    "y_train = dataset[:700,8]\n",
    "x_test = dataset[700:,0:8]\n",
    "y_test = dataset[700:,8]"
   ]
  },
  {
   "cell_type": "code",
   "execution_count": null,
   "metadata": {},
   "outputs": [],
   "source": []
  }
 ],
 "metadata": {
  "kernelspec": {
   "display_name": "Python 3",
   "language": "python",
   "name": "python3"
  },
  "language_info": {
   "codemirror_mode": {
    "name": "ipython",
    "version": 3
   },
   "file_extension": ".py",
   "mimetype": "text/x-python",
   "name": "python",
   "nbconvert_exporter": "python",
   "pygments_lexer": "ipython3",
   "version": "3.6.5"
  }
 },
 "nbformat": 4,
 "nbformat_minor": 2
}
