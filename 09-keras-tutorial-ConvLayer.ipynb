{
 "cells": [
  {
   "cell_type": "code",
   "execution_count": 1,
   "metadata": {},
   "outputs": [
    {
     "name": "stderr",
     "output_type": "stream",
     "text": [
      "Using TensorFlow backend.\n"
     ]
    }
   ],
   "source": [
    "import numpy as np\n",
    "from keras.models import Sequential\n",
    "from keras.layers import Dense\n",
    "from keras.layers import Flatten\n",
    "from keras.layers.convolutional import Conv2D\n",
    "from keras.layers.convolutional import MaxPooling2D\n",
    "from keras.preprocessing.image import ImageDataGenerator\n",
    "\n",
    "# 랜덤시드 고정시키기\n",
    "np.random.seed(3)"
   ]
  },
  {
   "cell_type": "code",
   "execution_count": 2,
   "metadata": {},
   "outputs": [
    {
     "name": "stdout",
     "output_type": "stream",
     "text": [
      "Found 15 images belonging to 3 classes.\n",
      "Found 15 images belonging to 3 classes.\n"
     ]
    }
   ],
   "source": [
    "train_datagen = ImageDataGenerator(rescale=1./255)\n",
    "\n",
    "train_generator = train_datagen.flow_from_directory(\n",
    "        './dataset/shape/train',\n",
    "        target_size=(24, 24),\n",
    "        batch_size=3,\n",
    "        class_mode='categorical')\n",
    "\n",
    "test_datagen = ImageDataGenerator(rescale=1./255)\n",
    "\n",
    "test_generator = test_datagen.flow_from_directory(\n",
    "        './dataset/shape/test',\n",
    "        target_size=(24, 24),    \n",
    "        batch_size=3,\n",
    "        class_mode='categorical')"
   ]
  },
  {
   "cell_type": "code",
   "execution_count": 3,
   "metadata": {},
   "outputs": [],
   "source": [
    "model = Sequential()\n",
    "model.add(Conv2D(32, kernel_size=(3, 3),\n",
    "                 activation='relu',\n",
    "                 input_shape=(24,24,3)))\n",
    "model.add(Conv2D(64, (3, 3), activation='relu'))\n",
    "model.add(MaxPooling2D(pool_size=(2, 2)))\n",
    "model.add(Flatten())\n",
    "model.add(Dense(128, activation='relu'))\n",
    "model.add(Dense(3, activation='softmax'))"
   ]
  },
  {
   "cell_type": "code",
   "execution_count": 4,
   "metadata": {},
   "outputs": [
    {
     "data": {
      "image/svg+xml": [
       "<svg height=\"531pt\" viewBox=\"0.00 0.00 393.93 531.00\" width=\"394pt\" xmlns=\"http://www.w3.org/2000/svg\" xmlns:xlink=\"http://www.w3.org/1999/xlink\">\n",
       "<g class=\"graph\" id=\"graph0\" transform=\"scale(1 1) rotate(0) translate(4 527)\">\n",
       "<title>G</title>\n",
       "<polygon fill=\"#ffffff\" points=\"-4,4 -4,-527 389.9277,-527 389.9277,4 -4,4\" stroke=\"transparent\"/>\n",
       "<!-- 5095810832 -->\n",
       "<g class=\"node\" id=\"node1\">\n",
       "<title>5095810832</title>\n",
       "<polygon fill=\"none\" points=\"42.7793,-405.5 42.7793,-449.5 343.1484,-449.5 343.1484,-405.5 42.7793,-405.5\" stroke=\"#000000\"/>\n",
       "<text fill=\"#000000\" font-family=\"Times,serif\" font-size=\"14.00\" text-anchor=\"middle\" x=\"105.8052\" y=\"-423.3\">conv2d_1: Conv2D</text>\n",
       "<polyline fill=\"none\" points=\"168.8311,-405.5 168.8311,-449.5 \" stroke=\"#000000\"/>\n",
       "<text fill=\"#000000\" font-family=\"Times,serif\" font-size=\"14.00\" text-anchor=\"middle\" x=\"196.6655\" y=\"-434.3\">input:</text>\n",
       "<polyline fill=\"none\" points=\"168.8311,-427.5 224.5,-427.5 \" stroke=\"#000000\"/>\n",
       "<text fill=\"#000000\" font-family=\"Times,serif\" font-size=\"14.00\" text-anchor=\"middle\" x=\"196.6655\" y=\"-412.3\">output:</text>\n",
       "<polyline fill=\"none\" points=\"224.5,-405.5 224.5,-449.5 \" stroke=\"#000000\"/>\n",
       "<text fill=\"#000000\" font-family=\"Times,serif\" font-size=\"14.00\" text-anchor=\"middle\" x=\"283.8242\" y=\"-434.3\">(None, 24, 24, 3)</text>\n",
       "<polyline fill=\"none\" points=\"224.5,-427.5 343.1484,-427.5 \" stroke=\"#000000\"/>\n",
       "<text fill=\"#000000\" font-family=\"Times,serif\" font-size=\"14.00\" text-anchor=\"middle\" x=\"283.8242\" y=\"-412.3\">(None, 22, 22, 32)</text>\n",
       "</g>\n",
       "<!-- 4576327776 -->\n",
       "<g class=\"node\" id=\"node2\">\n",
       "<title>4576327776</title>\n",
       "<polygon fill=\"none\" points=\"42.7793,-324.5 42.7793,-368.5 343.1484,-368.5 343.1484,-324.5 42.7793,-324.5\" stroke=\"#000000\"/>\n",
       "<text fill=\"#000000\" font-family=\"Times,serif\" font-size=\"14.00\" text-anchor=\"middle\" x=\"105.8052\" y=\"-342.3\">conv2d_2: Conv2D</text>\n",
       "<polyline fill=\"none\" points=\"168.8311,-324.5 168.8311,-368.5 \" stroke=\"#000000\"/>\n",
       "<text fill=\"#000000\" font-family=\"Times,serif\" font-size=\"14.00\" text-anchor=\"middle\" x=\"196.6655\" y=\"-353.3\">input:</text>\n",
       "<polyline fill=\"none\" points=\"168.8311,-346.5 224.5,-346.5 \" stroke=\"#000000\"/>\n",
       "<text fill=\"#000000\" font-family=\"Times,serif\" font-size=\"14.00\" text-anchor=\"middle\" x=\"196.6655\" y=\"-331.3\">output:</text>\n",
       "<polyline fill=\"none\" points=\"224.5,-324.5 224.5,-368.5 \" stroke=\"#000000\"/>\n",
       "<text fill=\"#000000\" font-family=\"Times,serif\" font-size=\"14.00\" text-anchor=\"middle\" x=\"283.8242\" y=\"-353.3\">(None, 22, 22, 32)</text>\n",
       "<polyline fill=\"none\" points=\"224.5,-346.5 343.1484,-346.5 \" stroke=\"#000000\"/>\n",
       "<text fill=\"#000000\" font-family=\"Times,serif\" font-size=\"14.00\" text-anchor=\"middle\" x=\"283.8242\" y=\"-331.3\">(None, 20, 20, 64)</text>\n",
       "</g>\n",
       "<!-- 5095810832&#45;&gt;4576327776 -->\n",
       "<g class=\"edge\" id=\"edge2\">\n",
       "<title>5095810832-&gt;4576327776</title>\n",
       "<path d=\"M192.9639,-405.3664C192.9639,-397.1516 192.9639,-387.6579 192.9639,-378.7252\" fill=\"none\" stroke=\"#000000\"/>\n",
       "<polygon fill=\"#000000\" points=\"196.464,-378.6068 192.9639,-368.6068 189.464,-378.6069 196.464,-378.6068\" stroke=\"#000000\"/>\n",
       "</g>\n",
       "<!-- 5095898528 -->\n",
       "<g class=\"node\" id=\"node3\">\n",
       "<title>5095898528</title>\n",
       "<polygon fill=\"none\" points=\"0,-243.5 0,-287.5 385.9277,-287.5 385.9277,-243.5 0,-243.5\" stroke=\"#000000\"/>\n",
       "<text fill=\"#000000\" font-family=\"Times,serif\" font-size=\"14.00\" text-anchor=\"middle\" x=\"105.8052\" y=\"-261.3\">max_pooling2d_1: MaxPooling2D</text>\n",
       "<polyline fill=\"none\" points=\"211.6104,-243.5 211.6104,-287.5 \" stroke=\"#000000\"/>\n",
       "<text fill=\"#000000\" font-family=\"Times,serif\" font-size=\"14.00\" text-anchor=\"middle\" x=\"239.4448\" y=\"-272.3\">input:</text>\n",
       "<polyline fill=\"none\" points=\"211.6104,-265.5 267.2793,-265.5 \" stroke=\"#000000\"/>\n",
       "<text fill=\"#000000\" font-family=\"Times,serif\" font-size=\"14.00\" text-anchor=\"middle\" x=\"239.4448\" y=\"-250.3\">output:</text>\n",
       "<polyline fill=\"none\" points=\"267.2793,-243.5 267.2793,-287.5 \" stroke=\"#000000\"/>\n",
       "<text fill=\"#000000\" font-family=\"Times,serif\" font-size=\"14.00\" text-anchor=\"middle\" x=\"326.6035\" y=\"-272.3\">(None, 20, 20, 64)</text>\n",
       "<polyline fill=\"none\" points=\"267.2793,-265.5 385.9277,-265.5 \" stroke=\"#000000\"/>\n",
       "<text fill=\"#000000\" font-family=\"Times,serif\" font-size=\"14.00\" text-anchor=\"middle\" x=\"326.6035\" y=\"-250.3\">(None, 10, 10, 64)</text>\n",
       "</g>\n",
       "<!-- 4576327776&#45;&gt;5095898528 -->\n",
       "<g class=\"edge\" id=\"edge3\">\n",
       "<title>4576327776-&gt;5095898528</title>\n",
       "<path d=\"M192.9639,-324.3664C192.9639,-316.1516 192.9639,-306.6579 192.9639,-297.7252\" fill=\"none\" stroke=\"#000000\"/>\n",
       "<polygon fill=\"#000000\" points=\"196.464,-297.6068 192.9639,-287.6068 189.464,-297.6069 196.464,-297.6068\" stroke=\"#000000\"/>\n",
       "</g>\n",
       "<!-- 5095812120 -->\n",
       "<g class=\"node\" id=\"node4\">\n",
       "<title>5095812120</title>\n",
       "<polygon fill=\"none\" points=\"50.1724,-162.5 50.1724,-206.5 335.7554,-206.5 335.7554,-162.5 50.1724,-162.5\" stroke=\"#000000\"/>\n",
       "<text fill=\"#000000\" font-family=\"Times,serif\" font-size=\"14.00\" text-anchor=\"middle\" x=\"105.8052\" y=\"-180.3\">flatten_1: Flatten</text>\n",
       "<polyline fill=\"none\" points=\"161.438,-162.5 161.438,-206.5 \" stroke=\"#000000\"/>\n",
       "<text fill=\"#000000\" font-family=\"Times,serif\" font-size=\"14.00\" text-anchor=\"middle\" x=\"189.2725\" y=\"-191.3\">input:</text>\n",
       "<polyline fill=\"none\" points=\"161.438,-184.5 217.1069,-184.5 \" stroke=\"#000000\"/>\n",
       "<text fill=\"#000000\" font-family=\"Times,serif\" font-size=\"14.00\" text-anchor=\"middle\" x=\"189.2725\" y=\"-169.3\">output:</text>\n",
       "<polyline fill=\"none\" points=\"217.1069,-162.5 217.1069,-206.5 \" stroke=\"#000000\"/>\n",
       "<text fill=\"#000000\" font-family=\"Times,serif\" font-size=\"14.00\" text-anchor=\"middle\" x=\"276.4312\" y=\"-191.3\">(None, 10, 10, 64)</text>\n",
       "<polyline fill=\"none\" points=\"217.1069,-184.5 335.7554,-184.5 \" stroke=\"#000000\"/>\n",
       "<text fill=\"#000000\" font-family=\"Times,serif\" font-size=\"14.00\" text-anchor=\"middle\" x=\"276.4312\" y=\"-169.3\">(None, 6400)</text>\n",
       "</g>\n",
       "<!-- 5095898528&#45;&gt;5095812120 -->\n",
       "<g class=\"edge\" id=\"edge4\">\n",
       "<title>5095898528-&gt;5095812120</title>\n",
       "<path d=\"M192.9639,-243.3664C192.9639,-235.1516 192.9639,-225.6579 192.9639,-216.7252\" fill=\"none\" stroke=\"#000000\"/>\n",
       "<polygon fill=\"#000000\" points=\"196.464,-216.6068 192.9639,-206.6068 189.464,-216.6069 196.464,-216.6068\" stroke=\"#000000\"/>\n",
       "</g>\n",
       "<!-- 5096071008 -->\n",
       "<g class=\"node\" id=\"node5\">\n",
       "<title>5096071008</title>\n",
       "<polygon fill=\"none\" points=\"67.6792,-81.5 67.6792,-125.5 318.2485,-125.5 318.2485,-81.5 67.6792,-81.5\" stroke=\"#000000\"/>\n",
       "<text fill=\"#000000\" font-family=\"Times,serif\" font-size=\"14.00\" text-anchor=\"middle\" x=\"119.8052\" y=\"-99.3\">dense_1: Dense</text>\n",
       "<polyline fill=\"none\" points=\"171.9312,-81.5 171.9312,-125.5 \" stroke=\"#000000\"/>\n",
       "<text fill=\"#000000\" font-family=\"Times,serif\" font-size=\"14.00\" text-anchor=\"middle\" x=\"199.7656\" y=\"-110.3\">input:</text>\n",
       "<polyline fill=\"none\" points=\"171.9312,-103.5 227.6001,-103.5 \" stroke=\"#000000\"/>\n",
       "<text fill=\"#000000\" font-family=\"Times,serif\" font-size=\"14.00\" text-anchor=\"middle\" x=\"199.7656\" y=\"-88.3\">output:</text>\n",
       "<polyline fill=\"none\" points=\"227.6001,-81.5 227.6001,-125.5 \" stroke=\"#000000\"/>\n",
       "<text fill=\"#000000\" font-family=\"Times,serif\" font-size=\"14.00\" text-anchor=\"middle\" x=\"272.9243\" y=\"-110.3\">(None, 6400)</text>\n",
       "<polyline fill=\"none\" points=\"227.6001,-103.5 318.2485,-103.5 \" stroke=\"#000000\"/>\n",
       "<text fill=\"#000000\" font-family=\"Times,serif\" font-size=\"14.00\" text-anchor=\"middle\" x=\"272.9243\" y=\"-88.3\">(None, 128)</text>\n",
       "</g>\n",
       "<!-- 5095812120&#45;&gt;5096071008 -->\n",
       "<g class=\"edge\" id=\"edge5\">\n",
       "<title>5095812120-&gt;5096071008</title>\n",
       "<path d=\"M192.9639,-162.3664C192.9639,-154.1516 192.9639,-144.6579 192.9639,-135.7252\" fill=\"none\" stroke=\"#000000\"/>\n",
       "<polygon fill=\"#000000\" points=\"196.464,-135.6068 192.9639,-125.6068 189.464,-135.6069 196.464,-135.6068\" stroke=\"#000000\"/>\n",
       "</g>\n",
       "<!-- 5096219312 -->\n",
       "<g class=\"node\" id=\"node6\">\n",
       "<title>5096219312</title>\n",
       "<polygon fill=\"none\" points=\"71.1792,-.5 71.1792,-44.5 314.7485,-44.5 314.7485,-.5 71.1792,-.5\" stroke=\"#000000\"/>\n",
       "<text fill=\"#000000\" font-family=\"Times,serif\" font-size=\"14.00\" text-anchor=\"middle\" x=\"123.3052\" y=\"-18.3\">dense_2: Dense</text>\n",
       "<polyline fill=\"none\" points=\"175.4312,-.5 175.4312,-44.5 \" stroke=\"#000000\"/>\n",
       "<text fill=\"#000000\" font-family=\"Times,serif\" font-size=\"14.00\" text-anchor=\"middle\" x=\"203.2656\" y=\"-29.3\">input:</text>\n",
       "<polyline fill=\"none\" points=\"175.4312,-22.5 231.1001,-22.5 \" stroke=\"#000000\"/>\n",
       "<text fill=\"#000000\" font-family=\"Times,serif\" font-size=\"14.00\" text-anchor=\"middle\" x=\"203.2656\" y=\"-7.3\">output:</text>\n",
       "<polyline fill=\"none\" points=\"231.1001,-.5 231.1001,-44.5 \" stroke=\"#000000\"/>\n",
       "<text fill=\"#000000\" font-family=\"Times,serif\" font-size=\"14.00\" text-anchor=\"middle\" x=\"272.9243\" y=\"-29.3\">(None, 128)</text>\n",
       "<polyline fill=\"none\" points=\"231.1001,-22.5 314.7485,-22.5 \" stroke=\"#000000\"/>\n",
       "<text fill=\"#000000\" font-family=\"Times,serif\" font-size=\"14.00\" text-anchor=\"middle\" x=\"272.9243\" y=\"-7.3\">(None, 3)</text>\n",
       "</g>\n",
       "<!-- 5096071008&#45;&gt;5096219312 -->\n",
       "<g class=\"edge\" id=\"edge6\">\n",
       "<title>5096071008-&gt;5096219312</title>\n",
       "<path d=\"M192.9639,-81.3664C192.9639,-73.1516 192.9639,-63.6579 192.9639,-54.7252\" fill=\"none\" stroke=\"#000000\"/>\n",
       "<polygon fill=\"#000000\" points=\"196.464,-54.6068 192.9639,-44.6068 189.464,-54.6069 196.464,-54.6068\" stroke=\"#000000\"/>\n",
       "</g>\n",
       "<!-- 5095811672 -->\n",
       "<g class=\"node\" id=\"node7\">\n",
       "<title>5095811672</title>\n",
       "<polygon fill=\"none\" points=\"150.2202,-486.5 150.2202,-522.5 235.7075,-522.5 235.7075,-486.5 150.2202,-486.5\" stroke=\"#000000\"/>\n",
       "<text fill=\"#000000\" font-family=\"Times,serif\" font-size=\"14.00\" text-anchor=\"middle\" x=\"192.9639\" y=\"-500.3\">5095811672</text>\n",
       "</g>\n",
       "<!-- 5095811672&#45;&gt;5095810832 -->\n",
       "<g class=\"edge\" id=\"edge1\">\n",
       "<title>5095811672-&gt;5095810832</title>\n",
       "<path d=\"M192.9639,-486.2521C192.9639,-478.3888 192.9639,-468.9498 192.9639,-459.9612\" fill=\"none\" stroke=\"#000000\"/>\n",
       "<polygon fill=\"#000000\" points=\"196.464,-459.7376 192.9639,-449.7377 189.464,-459.7377 196.464,-459.7376\" stroke=\"#000000\"/>\n",
       "</g>\n",
       "</g>\n",
       "</svg>"
      ],
      "text/plain": [
       "<IPython.core.display.SVG object>"
      ]
     },
     "execution_count": 4,
     "metadata": {},
     "output_type": "execute_result"
    }
   ],
   "source": [
    "from IPython.display import SVG\n",
    "from keras.utils.vis_utils import model_to_dot\n",
    "\n",
    "%matplotlib inline\n",
    "\n",
    "SVG(model_to_dot(model, show_shapes=True).create(prog='dot', format='svg'))"
   ]
  },
  {
   "cell_type": "code",
   "execution_count": 5,
   "metadata": {},
   "outputs": [],
   "source": [
    "model.compile(loss='categorical_crossentropy', optimizer='adam', metrics=['accuracy'])"
   ]
  },
  {
   "cell_type": "code",
   "execution_count": 6,
   "metadata": {},
   "outputs": [
    {
     "name": "stdout",
     "output_type": "stream",
     "text": [
      "Epoch 1/50\n",
      "15/15 [==============================] - 1s 68ms/step - loss: 1.2719 - acc: 0.3778 - val_loss: 1.0216 - val_acc: 0.6000\n",
      "Epoch 2/50\n",
      "15/15 [==============================] - 0s 24ms/step - loss: 0.4923 - acc: 0.9778 - val_loss: 0.7183 - val_acc: 0.6667\n",
      "Epoch 3/50\n",
      "15/15 [==============================] - 0s 25ms/step - loss: 0.0203 - acc: 1.0000 - val_loss: 0.7920 - val_acc: 0.6000\n",
      "Epoch 4/50\n",
      "15/15 [==============================] - 0s 28ms/step - loss: 8.3562e-04 - acc: 1.0000 - val_loss: 0.8316 - val_acc: 0.6000\n",
      "Epoch 5/50\n",
      "15/15 [==============================] - 0s 26ms/step - loss: 2.1227e-04 - acc: 1.0000 - val_loss: 0.7378 - val_acc: 0.6667\n",
      "Epoch 6/50\n",
      "15/15 [==============================] - 0s 31ms/step - loss: 1.2466e-04 - acc: 1.0000 - val_loss: 0.7174 - val_acc: 0.6667\n",
      "Epoch 7/50\n",
      "15/15 [==============================] - 0s 23ms/step - loss: 9.8698e-05 - acc: 1.0000 - val_loss: 0.7111 - val_acc: 0.6667\n",
      "Epoch 8/50\n",
      "15/15 [==============================] - 0s 29ms/step - loss: 8.5628e-05 - acc: 1.0000 - val_loss: 0.6985 - val_acc: 0.6667\n",
      "Epoch 9/50\n",
      "15/15 [==============================] - 0s 18ms/step - loss: 7.6132e-05 - acc: 1.0000 - val_loss: 0.6974 - val_acc: 0.6667\n",
      "Epoch 10/50\n",
      "15/15 [==============================] - 0s 17ms/step - loss: 6.8145e-05 - acc: 1.0000 - val_loss: 0.6981 - val_acc: 0.6667\n",
      "Epoch 11/50\n",
      "15/15 [==============================] - 0s 22ms/step - loss: 6.1308e-05 - acc: 1.0000 - val_loss: 0.6930 - val_acc: 0.6667\n",
      "Epoch 12/50\n",
      "15/15 [==============================] - 0s 24ms/step - loss: 5.5748e-05 - acc: 1.0000 - val_loss: 0.6877 - val_acc: 0.6667\n",
      "Epoch 13/50\n",
      "15/15 [==============================] - 0s 24ms/step - loss: 5.0547e-05 - acc: 1.0000 - val_loss: 0.6902 - val_acc: 0.7333\n",
      "Epoch 14/50\n",
      "15/15 [==============================] - 0s 21ms/step - loss: 4.6237e-05 - acc: 1.0000 - val_loss: 0.6900 - val_acc: 0.7333\n",
      "Epoch 15/50\n",
      "15/15 [==============================] - 0s 29ms/step - loss: 4.2190e-05 - acc: 1.0000 - val_loss: 0.6893 - val_acc: 0.7333\n",
      "Epoch 16/50\n",
      "15/15 [==============================] - 0s 24ms/step - loss: 3.8646e-05 - acc: 1.0000 - val_loss: 0.6889 - val_acc: 0.8000\n",
      "Epoch 17/50\n",
      "15/15 [==============================] - 0s 20ms/step - loss: 3.5626e-05 - acc: 1.0000 - val_loss: 0.6867 - val_acc: 0.8000\n",
      "Epoch 18/50\n",
      "15/15 [==============================] - 0s 17ms/step - loss: 3.2852e-05 - acc: 1.0000 - val_loss: 0.6836 - val_acc: 0.8000\n",
      "Epoch 19/50\n",
      "15/15 [==============================] - 0s 22ms/step - loss: 3.0193e-05 - acc: 1.0000 - val_loss: 0.6836 - val_acc: 0.8000\n",
      "Epoch 20/50\n",
      "15/15 [==============================] - 0s 25ms/step - loss: 2.7872e-05 - acc: 1.0000 - val_loss: 0.6872 - val_acc: 0.8000\n",
      "Epoch 21/50\n",
      "15/15 [==============================] - 0s 24ms/step - loss: 2.5754e-05 - acc: 1.0000 - val_loss: 0.6881 - val_acc: 0.8000\n",
      "Epoch 22/50\n",
      "15/15 [==============================] - 0s 22ms/step - loss: 2.3819e-05 - acc: 1.0000 - val_loss: 0.6869 - val_acc: 0.8000\n",
      "Epoch 23/50\n",
      "15/15 [==============================] - 0s 19ms/step - loss: 2.2062e-05 - acc: 1.0000 - val_loss: 0.6858 - val_acc: 0.8000\n",
      "Epoch 24/50\n",
      "15/15 [==============================] - 0s 18ms/step - loss: 2.0535e-05 - acc: 1.0000 - val_loss: 0.6863 - val_acc: 0.8000\n",
      "Epoch 25/50\n",
      "15/15 [==============================] - 0s 21ms/step - loss: 1.9129e-05 - acc: 1.0000 - val_loss: 0.6841 - val_acc: 0.8000\n",
      "Epoch 26/50\n",
      "15/15 [==============================] - 0s 24ms/step - loss: 1.7894e-05 - acc: 1.0000 - val_loss: 0.6835 - val_acc: 0.8000\n",
      "Epoch 27/50\n",
      "15/15 [==============================] - 1s 34ms/step - loss: 1.6764e-05 - acc: 1.0000 - val_loss: 0.6846 - val_acc: 0.8000\n",
      "Epoch 28/50\n",
      "15/15 [==============================] - 0s 27ms/step - loss: 1.5652e-05 - acc: 1.0000 - val_loss: 0.6857 - val_acc: 0.8000\n",
      "Epoch 29/50\n",
      "15/15 [==============================] - 0s 27ms/step - loss: 1.4704e-05 - acc: 1.0000 - val_loss: 0.6854 - val_acc: 0.8000\n",
      "Epoch 30/50\n",
      "15/15 [==============================] - 0s 27ms/step - loss: 1.3789e-05 - acc: 1.0000 - val_loss: 0.6866 - val_acc: 0.8000\n",
      "Epoch 31/50\n",
      "15/15 [==============================] - 0s 25ms/step - loss: 1.2930e-05 - acc: 1.0000 - val_loss: 0.6850 - val_acc: 0.8000\n",
      "Epoch 32/50\n",
      "15/15 [==============================] - 0s 25ms/step - loss: 1.2170e-05 - acc: 1.0000 - val_loss: 0.6846 - val_acc: 0.8000\n",
      "Epoch 33/50\n",
      "15/15 [==============================] - 0s 23ms/step - loss: 1.1480e-05 - acc: 1.0000 - val_loss: 0.6851 - val_acc: 0.8000\n",
      "Epoch 34/50\n",
      "15/15 [==============================] - 0s 24ms/step - loss: 1.0839e-05 - acc: 1.0000 - val_loss: 0.6851 - val_acc: 0.7333\n",
      "Epoch 35/50\n",
      "15/15 [==============================] - 0s 26ms/step - loss: 1.0223e-05 - acc: 1.0000 - val_loss: 0.6855 - val_acc: 0.7333\n",
      "Epoch 36/50\n",
      "15/15 [==============================] - 0s 25ms/step - loss: 9.6547e-06 - acc: 1.0000 - val_loss: 0.6865 - val_acc: 0.7333\n",
      "Epoch 37/50\n",
      "15/15 [==============================] - 0s 24ms/step - loss: 9.1394e-06 - acc: 1.0000 - val_loss: 0.6857 - val_acc: 0.7333\n",
      "Epoch 38/50\n",
      "15/15 [==============================] - 0s 24ms/step - loss: 8.6653e-06 - acc: 1.0000 - val_loss: 0.6860 - val_acc: 0.7333\n",
      "Epoch 39/50\n",
      "15/15 [==============================] - 0s 26ms/step - loss: 8.2096e-06 - acc: 1.0000 - val_loss: 0.6865 - val_acc: 0.7333\n",
      "Epoch 40/50\n",
      "15/15 [==============================] - 0s 23ms/step - loss: 7.7897e-06 - acc: 1.0000 - val_loss: 0.6869 - val_acc: 0.7333\n",
      "Epoch 41/50\n",
      "15/15 [==============================] - 0s 25ms/step - loss: 7.3698e-06 - acc: 1.0000 - val_loss: 0.6869 - val_acc: 0.7333\n",
      "Epoch 42/50\n",
      "15/15 [==============================] - 0s 24ms/step - loss: 6.9725e-06 - acc: 1.0000 - val_loss: 0.6881 - val_acc: 0.7333\n",
      "Epoch 43/50\n",
      "15/15 [==============================] - 0s 24ms/step - loss: 6.5658e-06 - acc: 1.0000 - val_loss: 0.6869 - val_acc: 0.7333\n",
      "Epoch 44/50\n",
      "15/15 [==============================] - 0s 24ms/step - loss: 6.0943e-06 - acc: 1.0000 - val_loss: 0.6858 - val_acc: 0.7333\n",
      "Epoch 45/50\n",
      "15/15 [==============================] - 0s 24ms/step - loss: 5.5539e-06 - acc: 1.0000 - val_loss: 0.6770 - val_acc: 0.8000\n",
      "Epoch 46/50\n",
      "15/15 [==============================] - 0s 24ms/step - loss: 4.9803e-06 - acc: 1.0000 - val_loss: 0.6829 - val_acc: 0.8000\n",
      "Epoch 47/50\n",
      "15/15 [==============================] - 0s 24ms/step - loss: 4.3816e-06 - acc: 1.0000 - val_loss: 0.6844 - val_acc: 0.8000\n",
      "Epoch 48/50\n",
      "15/15 [==============================] - 0s 23ms/step - loss: 3.7803e-06 - acc: 1.0000 - val_loss: 0.6952 - val_acc: 0.8000\n",
      "Epoch 49/50\n",
      "15/15 [==============================] - 0s 24ms/step - loss: 3.1935e-06 - acc: 1.0000 - val_loss: 0.7047 - val_acc: 0.8000\n",
      "Epoch 50/50\n",
      "15/15 [==============================] - 0s 25ms/step - loss: 2.6266e-06 - acc: 1.0000 - val_loss: 0.7238 - val_acc: 0.8000\n"
     ]
    },
    {
     "data": {
      "text/plain": [
       "<keras.callbacks.History at 0x12fba85c0>"
      ]
     },
     "execution_count": 6,
     "metadata": {},
     "output_type": "execute_result"
    }
   ],
   "source": [
    "model.fit_generator(\n",
    "        train_generator,\n",
    "        steps_per_epoch=15,\n",
    "        epochs=50,\n",
    "        validation_data=test_generator,\n",
    "        validation_steps=5)"
   ]
  },
  {
   "cell_type": "code",
   "execution_count": 7,
   "metadata": {},
   "outputs": [
    {
     "name": "stdout",
     "output_type": "stream",
     "text": [
      "-- Evaluate --\n",
      "acc: 86.67%\n"
     ]
    }
   ],
   "source": [
    "print(\"-- Evaluate --\")\n",
    "scores = model.evaluate_generator(test_generator, steps=5)\n",
    "print(\"%s: %.2f%%\" %(model.metrics_names[1], scores[1]*100))"
   ]
  },
  {
   "cell_type": "code",
   "execution_count": 8,
   "metadata": {},
   "outputs": [
    {
     "name": "stdout",
     "output_type": "stream",
     "text": [
      "-- Predict --\n",
      "{'circle': 0, 'rectangle': 1, 'triangle': 2}\n",
      "[[0.009 0.991 0.000]\n",
      " [0.979 0.017 0.005]\n",
      " [0.535 0.465 0.000]\n",
      " [0.038 0.962 0.000]\n",
      " [0.043 0.251 0.706]\n",
      " [0.964 0.035 0.000]\n",
      " [0.043 0.251 0.706]\n",
      " [0.000 0.795 0.204]\n",
      " [0.979 0.017 0.005]\n",
      " [0.535 0.465 0.000]\n",
      " [0.038 0.962 0.000]\n",
      " [0.642 0.357 0.001]\n",
      " [0.964 0.035 0.000]\n",
      " [0.023 0.976 0.000]\n",
      " [0.104 0.061 0.835]]\n"
     ]
    }
   ],
   "source": [
    "print(\"-- Predict --\")\n",
    "output = model.predict_generator(test_generator, steps=5)\n",
    "np.set_printoptions(formatter={'float': lambda x: \"{0:0.3f}\".format(x)})\n",
    "print(test_generator.class_indices)\n",
    "print(output)"
   ]
  },
  {
   "cell_type": "code",
   "execution_count": null,
   "metadata": {},
   "outputs": [],
   "source": []
  }
 ],
 "metadata": {
  "kernelspec": {
   "display_name": "Python 3",
   "language": "python",
   "name": "python3"
  },
  "language_info": {
   "codemirror_mode": {
    "name": "ipython",
    "version": 3
   },
   "file_extension": ".py",
   "mimetype": "text/x-python",
   "name": "python",
   "nbconvert_exporter": "python",
   "pygments_lexer": "ipython3",
   "version": "3.6.5"
  }
 },
 "nbformat": 4,
 "nbformat_minor": 2
}
